{
 "cells": [
  {
   "cell_type": "markdown",
   "id": "8526428b-f0bf-43f9-8982-861590466864",
   "metadata": {},
   "source": [
    "<center>\n",
    "\n",
    "# Anomaly Detection with Gate Model Quantum Computation\n",
    "\n",
    "</center>\n",
    "\n",
    "<br>\n",
    "\n",
    "----\n",
    "\n",
    "<br>\n",
    "\n",
    "\n",
    "### Description\n",
    "\n",
    "Anomaly detection is the identification of abnormal behavior in data, which manifests in individual data\n",
    "points that differ significantly from the majority of\n",
    "the data. This task frequently appears in many domains including finance,\n",
    "medicine and telecommunications. A particularly challenging application of Anomaly Detection\n",
    "can be found in Endpoint Detection and Response\n",
    "(EDR), which aims at detecting and investigating suspicious activities on endpoints such as mobile phones\n",
    "or workstations in cybersecurity. In\n",
    "practice, the respective networks can be comprised of\n",
    "billions of nodes, generating an immense amount of\n",
    "data, in which the search for extremely scarce, malicious anomalies can be very tedious.\n",
    "This vast number of typically high-dimensional\n",
    "data points and additional impediments such as zeroday attacks raise a demand for suitable anomaly detection techniques deviating from the still widely used manual and rule-based approaches. While many\n",
    "classical machine learning approaches to this mostly\n",
    "unsupervised learning problem exist, the distinction between malicious and benign\n",
    "anomalies frequently remains intractable due to insufficient generalization (Karami, 2018). This problem\n",
    "substantiates in a trade-off between detecting an unacceptably high number of false positives (i.e., benign\n",
    "data) and failing to reliably detect all true positives\n",
    "(i.e., the malicious anomalies).\n",
    "\n",
    "In the following notebook we demonstrate the application of Quantum Computing (QC)\n",
    "to this problem, as QC has shown promising performance in generative data modelling, which is a popular technique used in unsupervised anomaly detection. Specifically, we implement the Quantum Boltzmann Machine algorithm implemented on a Gate model architecture for quantum computation.\n",
    "\n",
    "\n",
    "### Gibbs state preparation\n",
    "The training of QBMs involves the evaluation of Gibbs state expectation values, which is computationally intractable for classical computers due to the exponentially growing Hilbert space. However, this could be remedied through the usage of a quantum computer. One approach is to prepare a QBM on a quantum computer by leveraging the quantum eigenvalue transform (QEVT), a framework for realizing matrix polynomials on a quantum computer based on quantum signal processing (QSP).\n",
    "\n",
    "The Gibbs state for the QBM is implemented by a numerical simulation of the QEVT suggested in [Dong, Y. *et al.*, *Efficient phase-factor evaluation in quantum signal processing*. *Physical Review A*, 103(4)](https://journals.aps.org/pra/abstract/10.1103/PhysRevA.103.042419). The necessary QSP phase factors are solved by interfacing with the [QSPPACK library](https://qsppack.readthedocs.io/). For the unitary block encoding of the QBM Hamiltonian, either a general unitary block encoding or the hardware-compatible LCU2 method is performed.\n"
   ]
  },
  {
   "cell_type": "code",
   "execution_count": 1,
   "id": "db14751d-1b93-42e1-a994-c7cbd4d85a25",
   "metadata": {},
   "outputs": [],
   "source": [
    "import os\n",
    "\n",
    "import matplotlib.pyplot as plt\n",
    "import random\n",
    "from pennylane import numpy as np\n",
    "from tqdm import tqdm\n",
    "from qbmqsp.utils import construct_multi_fcqbm_pauli_strings\n",
    "from qbmqsp.src.utils import import_dataset, split_dataset_labels, split_data\n",
    "from sklearn.metrics import (accuracy_score, confusion_matrix, f1_score,\n",
    "                             precision_score, recall_score)\n",
    "import scipy.linalg as spl\n",
    "import pennylane as qml\n",
    "from pennylane.pauli.utils import string_to_pauli_word\n"
   ]
  },
  {
   "cell_type": "markdown",
   "id": "1876052e-2491-4059-90b9-a93efd575555",
   "metadata": {},
   "source": [
    "## Problem Specification, Toy Dataset\n",
    "\n",
    "Simulating a gate-based QBM becomes unrealistic when the total number of nodes (hidden + visible) is of order 10. This is because the number of qubits required to prepare a Gibbs state using Quantum Signal Processing is of order $\\mathbf{O}(2n+2)$. The dataset employed for demonstration of this use case is thus downsampled to a 2D pixelated dataset described below.  \n",
    "\n",
    "<center>\n",
    "\n",
    "We generate a synthetic dataset aimed at matching the following properties found in real-world data:  \n",
    "\n",
    "- High dimensionality to assess scaling performance  \n",
    "- Scarce anomalies  \n",
    "- A substantial number of data points  \n",
    "\n",
    "While (2) and (3) are straightforward, (1) is directly proportional to the number of visible units and thus the space complexity, compromising the achievable dimensionality. Compromising (1) to facilitate a visual evaluation and retain enough space for exploring a large space of hidden units for this first case study on fully unsupervised anomaly detection using a QBM, we restrict the dataset to three dimensions.  \n",
    "\n",
    "To satisfy (2) and (3) within the limitations of current hardware capabilities, we generate **1007** 2D data points  \n",
    "$x \\in [0, \\dots, 15]$  \n",
    "clustered in five clusters and containing seven anomalies using the method `make_blobs` from scikit-learn (Pedregosa *et al.*, 2011).  \n",
    "\n",
    "Therefore, seven bits are required per dimension, which means that **21 visible neurons** are needed to represent the QBM’s input, i.e., a single data point. Due to the 50/50 train/test split, the ratio of anomalies is  \n",
    "$\\leq \\frac{7}{500} \\approx 1\\%$,  \n",
    "satisfying (2). A pairplot of the generated dataset is displayed below.\n",
    "\n",
    "The task is then to detect the outliers in an unsupervised manner such that the number of false positives remains fairly low.  \n",
    "\n",
    "</center>\n"
   ]
  },
  {
   "cell_type": "code",
   "execution_count": 2,
   "id": "60e3e10e-8612-4034-b805-f599e6648d2d",
   "metadata": {},
   "outputs": [
    {
     "data": {
      "image/png": "[encoded data removed]",
      "text/plain": [
       "<Figure size 3000x800 with 2 Axes>"
      ]
     },
     "metadata": {},
     "output_type": "display_data"
    }
   ],
   "source": [
    "from qbmqsp import drawer\n",
    "\n",
    "\n",
    "#----Loading the Dataset-------\n",
    "\n",
    "#Specify Number of Clusters\n",
    "CLUSTER=5\n",
    "\n",
    "PATH= './qbmqsp/src/datasets/Gate_qbm_datasets/l_o8_c5_d2_v0.35_p190_4.npy'\n",
    "np.random.seed(seed=3)\n",
    "random.seed(3)\n",
    "#dev_name='qiskit.ibmq'\n",
    "\n",
    "\n",
    "data = import_dataset(PATH)\n",
    "training_dataset, testing_dataset = split_data(data, CLUSTER)\n",
    "training_data, training_labels = split_dataset_labels(training_dataset)\n",
    "testing_data,testing_labels=split_dataset_labels(testing_dataset)\n",
    "\n",
    "\n",
    "# Visualize Dataset\n",
    "\n",
    "drawer.plot_pixel_dataset(data,CLUSTER)\n",
    "\n"
   ]
  },
  {
   "cell_type": "markdown",
   "id": "0594c391-8e9a-45fd-b652-4df4fce481ed",
   "metadata": {},
   "source": [
    "## QBM's\n",
    "\n",
    "A QBM is a machine learning model of the form of a variational Gibbs state [1].\n",
    "$$ \\rho_\\theta = \\frac{ e^{-\\beta \\hspace{0.05cm} H_\\theta} }\n",
    "                       { Tr {(e^{-\\beta  \\hspace{0.05cm} H_\\theta})} } $$\n",
    "\n",
    "where $H_\\theta$ is a Hamiltonian parameterized by variational parameters $\\theta$, acting on $n_v$ visible and $n_h$ hidden qubits.\n",
    " \n",
    "$$\n",
    "    H_\\theta = \\sum_{i=1}^{K} \\theta_i h_i $$\n",
    "\n",
    "where $\\theta \\in \\mathbb{R}^K$ and $h_i = {\\bigotimes}_{j=1}^{n} \\hspace{0.1cm} \\sigma_{j,i}$ with $\\sigma_{j,i} \\in \\{ I, X, Y, Z \\}$ and $n = n_v + n_h$. \n",
    "A QBM can be used for generative modeling of classical and quantum data and is trained using the POVM-based Golden-Thompson training.\n",
    "\n",
    "A discrete target probability distribution $Q$, specified by probabilities $\\{q^{v}\\}$, and a POVM $\\{\\Uplambda_{v} \\otimes I_h\\}$ acting non-trivially only on the visible subsystem. \n",
    "We optimize the QBM such that the probability distribution $P_\\theta$ defined by the outcome probabilities $p^{v}_\\theta = Tr{(\\Uplambda{v} \\otimes I_h) \\rho_\\theta}$ of a POVM measurement specified by $\\{\\Uplambda{v}\\}$ on $\\rho_\\theta$, is as close as possible to $Q$.\n",
    "This is achieved by minimizing the Kullback-Leibler divergence ${D_{\\text{KL}} (Q \\Vert P_{\\theta}) = \\sum_{v} q^{v} \\log \\left( \\frac{q^{v}}{p^{v}_\\theta} \\right)}$ via gradient descent. \n",
    "\n",
    "$$\n",
    "     \\partial_{\\theta_i} D_{\\text{KL}} (Q \\Vert \\widetilde{P}_{\\theta}) \n",
    "    = \n",
    "    \\overline{\\langle \\partial_{\\theta_i} H_\\theta^{v}  \\rangle}_{v} \n",
    "    - \n",
    "    \\langle \\partial_{\\theta_i} H_\\theta  \\rangle_{\\rho_\\theta} $$\n",
    "\n",
    "where \n",
    "$$ \n",
    "    \\overline{\\langle \\hspace{0.1cm} \\boldsymbol{\\cdot} \\hspace{0.1cm} \\rangle}_{v}\n",
    "    = \n",
    "    \\sum_v q^{v} \\hspace{0.05cm} \\langle \\hspace{0.1cm} {\\cdot} \\hspace{0.1cm} \\rangle_{v}\n",
    "    = \n",
    "    \\sum_{v} q^{v} \\hspace{0.05cm} Tr({\n",
    "    \\frac{ \n",
    "    e^{-\\beta H_\\theta^{v}} }\n",
    "    { Tr({e^{-\\beta H_\\theta^{v}}} }) \\hspace{0.1cm} {\\cdot} \\hspace{0.1cm}\n",
    "    } $$\n",
    "For the Hamiltonian of the form that is implemented in Quantum Annealers:\n",
    "\n",
    "\n",
    "$$\n",
    "    %H_{(\\Upgamma,\\, b,\\, w)} \n",
    "    H_{\\theta}\n",
    "    = \n",
    "    - \\sum_i \\Upgamma_i \\sigma^x_i - \\sum_i b_i \\sigma^z_i - \\sum_{ij} w_{ij} \\sigma^z_i \\sigma^z_j $$\n",
    "\n",
    "The weights updates then take the form :\n",
    "$$ \\delta b_i= \\overline{\\langle \\sigma^z_i \\rangle_v} - \\langle\\sigma^z_i \\rangle$$\n",
    "$$ \\delta w_{ij} = \\overline{\\langle \\sigma^z_i \\sigma^z_j\\rangle_v} - \\langle\\sigma^z_i\\sigma^z_j \\rangle$$\n",
    "\n",
    "\n",
    "### Quantum Signal Processing\n",
    "\n",
    "As a mixed quantum state, the QBM is not prepared directly, but rather a **purification** of it.  \n",
    "Given an $n$-qubit QBM, we define two $n$-qubit registers: the system register $S$ and the environment register $E$, to prepare  \n",
    "$\\ket{\\phi^{+}}_{S,E}^{\\otimes n}$,  \n",
    "where  \n",
    "$\\ket{\\phi^{+}}_{S,E} = (\\ket{00} + \\ket{11}) / \\sqrt{2}$  \n",
    "denotes the maximally entangled state with the first qubit in $S$ and the second qubit in $E$.  \n",
    "\n",
    "We then apply  \n",
    "$V_\\theta = e^{- \\frac{\\beta}{2} \\, H_\\theta}$  \n",
    "and perform measurements in $S$ but not in $E$, i.e., we trace out $E$, resulting in a QBM:\n",
    "\n",
    "$$\n",
    "\\operatorname{Tr}_{E} \\!\\left[ \\, (V_\\theta \\otimes I_E) \\, \n",
    "\\ket{\\phi^{+}}\\bra{\\phi^{+}}_{S,E}^{\\otimes n} \\,\n",
    "(V_\\theta^{\\dagger} \\otimes I_E) \\, \\right]\n",
    "= \\rho_\\theta \\, .\n",
    "$$\n",
    "\n",
    "To apply the non-unitary, imaginary-time evolution operator $V_\\theta$, we utilize **QEVT**.  \n",
    "\n",
    "**1.** – We perform a **unitary block encoding** of the Hamiltonian, which requires a third register: the auxiliary register $A$. This project implements  \n",
    "the general encoding scheme  \n",
    "$Z \\otimes H_\\theta + X \\otimes \\sqrt{I - H_\\theta^2}$  \n",
    "and the hardware-compatible **LCU**[^2] method.  \n",
    "\n",
    "**2.** – We find the **QSP phase factors** to realize $e^{- \\frac{\\beta}{2} \\, x}$ on a quantum computer.  \n",
    "Since the QSP theorem only allows for realizing polynomials of definite parity, we compute the QSP phase factors $\\varphi$ for a polynomial approximation of the even function  \n",
    "$f_\\tau (x) = e^{- \\tau \\, |x|}$  \n",
    "for some $\\tau \\in \\mathbb{R}$.  \n",
    "This is achieved by interfacing with **QSPPACK**, which finds a polynomial approximation of $f_\\tau$ on an interval $[\\delta, \\, 1]$ for some tunable parameter $\\delta \\in (0, 1)$.\n",
    "\n",
    "Hence, to realize $V_\\theta$, we must scale the spectrum of $H_\\theta$ to the interval $[\\delta, \\, 1]$.  \n",
    "Since $H_\\theta$ is a linear combination of Pauli string operators (with eigenvalues $\\pm 1$), the operator norm is bounded by  \n",
    "$\\lVert H_\\theta \\rVert \\le \\lVert \\theta \\rVert_1$.  \n",
    "Therefore, the preprocessing\n",
    "\n",
    "$$\n",
    "H_\\theta^\\delta = \n",
    "\\frac{ H_\\theta + \\lVert \\theta \\rVert_1 \\, I }\n",
    "     { 2 \\lVert \\theta \\rVert_1 } (1 - \\delta)\n",
    "     + \\delta \\, I\n",
    "$$\n",
    "\n",
    "(where $I$ denotes the identity operator) results in  \n",
    "$\\operatorname{spec}( H_\\theta^{\\delta} ) \\subset [\\delta, 1]$.  \n",
    "\n",
    "By computing $\\varphi$ for $f_\\tau$ with  \n",
    "$\\tau = \\frac{ \\beta \\, \\lVert \\theta \\rVert_1 }{ 1 - \\delta }$  \n",
    "and employing QEVT, we implement a unitary $U_\\varphi$ acting on $A$ and $S$ such that\n",
    "\n",
    "$$\n",
    "(\\bra{0}_A \\otimes I_S) \\, U_\\varphi \\, (\\ket{0}_A \\otimes I_S)\n",
    "= f_\\tau(H_{\\theta}^{\\delta})\n",
    "= e^{- \\tau \\, H_{\\theta}^{\\delta}}\n",
    "= V_\\theta \\, e^{ - \\beta \\, \\frac{1 + \\delta}{1 - \\delta} \\, \\lVert \\theta \\rVert_1 } \\, .\n",
    "$$\n",
    "\n",
    "Hence, by preparing the state  \n",
    "$\\ket{0}_{A} \\otimes \\ket{\\phi^{+}}_{S,E}^{\\otimes n}$,  \n",
    "applying $U_\\varphi$ on $A$ and $S$, and measuring $\\ket{0}_A$ in $A$ (while performing any measurement on system $S$ but not $E$), we obtain the statistics of a QBM:\n",
    "\n",
    "$$\n",
    "\\operatorname{Tr}_{E} \\!\\left[ (\\bra{0}_A \\otimes I_S) \\,\n",
    "U_\\varphi \\,\n",
    "( \\ket{0}\\bra{0}_A \\otimes \\ket{\\phi^{+}}\\bra{\\phi^{+}}_{S,E}^{\\otimes n} ) \\,\n",
    "U_\\varphi^{\\dagger} \\,\n",
    "(\\ket{0}_A \\otimes I_S) \\right]\n",
    "\\sim \\rho_\\theta \\, .\n",
    "$$\n",
    "\n",
    "The **normalization factor** is the trace of the LHS, equivalent to the success probability of measuring $\\ket{0}_A$ in $A$:\n",
    "\n",
    "$$\n",
    "p_0 = \\operatorname{Tr}\\!\\left[ e^{- \\beta H_\\theta} \\right] \\, 2^{-n} \\, e^{ - \\beta \\, \\frac{1 - \\delta}{1 + \\delta} \\, \\lVert \\theta \\rVert_1 } \\, ,\n",
    "$$\n",
    "\n",
    "which can be increased by employing amplitude amplification in system $A$.\n",
    "\n",
    "![Gibbs Diagram](images/qevt.png)\n"
   ]
  },
  {
   "cell_type": "markdown",
   "id": "146f8bdb-f788-4fd9-8283-a3c9814c42bf",
   "metadata": {},
   "source": [
    "## Training and Testing the QBM\n",
    "\n",
    "The training for the QBM could be time-consuming compared to the model hyper-parameters, the model here can be trained in reasonable time if hidden units are 0 or 1. \n",
    "\n",
    "### Training a fully visible QBM\n",
    "\n"
   ]
  },
  {
   "cell_type": "code",
   "execution_count": 3,
   "id": "40a6d318-3224-4c8a-8a7f-70155d49ecfa",
   "metadata": {
    "scrolled": true
   },
   "outputs": [
    {
     "name": "stdout",
     "output_type": "stream",
     "text": [
      "\n",
      "Starting MATLAB engine.. "
     ]
    },
    {
     "name": "stderr",
     "output_type": "stream",
     "text": [
      "C:\\Users\\arora\\anaconda3\\envs\\qbmqsp\\Lib\\site-packages\\pennylane\\operation.py:2622: PennyLaneDeprecationWarning: Observable is deprecated and will be removed in v0.43. A generic Operator class should be used instead. If defining an Operator, set the is_hermitian property to True. If checking if an Operator is Hermitian, check the is_hermitian property. \n",
      "  warnings.warn(\n"
     ]
    },
    {
     "name": "stdout",
     "output_type": "stream",
     "text": [
      "Done.\n",
      "\n"
     ]
    }
   ],
   "source": [
    "from qbmqsp.gate_qbm  import QBM\n",
    "import numpy\n",
    "#training_data=numpy.expand_dims(training_data[:,0],axis=1)\n",
    "#training_data=training_data[0::]\n",
    "\n",
    "n_hidden_units=0\n",
    "n_visible=8\n",
    "n_qubits = n_visible+n_hidden_units\n",
    "restricted=False\n",
    "multiple=True   # set True for 3-qubit-interaction terms\n",
    "enc = 'general'\n",
    "δ = 0.3\n",
    "polydeg = 10\n",
    "β = 1.8467804429088952\n",
    "learning_rate = 0.2187183103085994\n",
    "epochs = 1\n",
    "batch_size=53\n",
    "seed=121\n",
    "\n",
    "\n",
    "dev_name='default.qubit'\n",
    "#dev_name='lightning.qubit'\n",
    "qbm = QBM(training_data,enc, δ, polydeg, β,n_hidden_units,epochs,restricted,multiple=multiple)\n",
    "\n",
    "\n"
   ]
  },
  {
   "cell_type": "code",
   "execution_count": 4,
   "id": "6b44be4b-b7d4-4128-8b9c-f24b98d2d5d2",
   "metadata": {},
   "outputs": [
    {
     "name": "stdout",
     "output_type": "stream",
     "text": [
      "Epoch 1\n"
     ]
    },
    {
     "name": "stderr",
     "output_type": "stream",
     "text": [
      "100%|██████████████████████████████████████████████████████████████████████████████████| 10/10 [00:27<00:00,  2.72s/it]\n"
     ]
    }
   ],
   "source": [
    "\n",
    "errors,weights=qbm.train_model(batch_size,learning_rate)\n"
   ]
  },
  {
   "cell_type": "markdown",
   "id": "9400595f-6282-47d6-b1f4-e9895d1ef0f3",
   "metadata": {},
   "source": [
    "### Evaluation of the Model\n",
    "\n",
    "The model is evaluated for the test dataset. The predicted outliers are shown in <span style=\"color:red;\">red</span>.\n"
   ]
  },
  {
   "cell_type": "code",
   "execution_count": 5,
   "id": "b11280e5-ea8e-442c-8046-07ae93d436c1",
   "metadata": {},
   "outputs": [
    {
     "name": "stdout",
     "output_type": "stream",
     "text": [
      "Outlier threshold:  -0.7078996045517361\n",
      "Calculate outlier Energy\n"
     ]
    },
    {
     "name": "stderr",
     "output_type": "stream",
     "text": [
      "100%|███████████████████████████████████████████████████████████████████████████████████| 4/4 [00:00<00:00, 162.98it/s]\n"
     ]
    },
    {
     "name": "stdout",
     "output_type": "stream",
     "text": [
      "Calculate cluster energy\n"
     ]
    },
    {
     "name": "stderr",
     "output_type": "stream",
     "text": [
      "100%|███████████████████████████████████████████████████████████████████████████████| 475/475 [00:01<00:00, 268.86it/s]\n",
      "C:\\Users\\arora\\Downloads\\QAR\\QAR\\Gate_qbm\\qbmqsp\\gate_qbm.py:216: UserWarning: Ignoring `palette` because no `hue` variable has been assigned.\n",
      "  sns.scatterplot(x=testing_data[:,0][testing_labels>lab],y=testing_data[:,1][testing_labels>lab], c='r',palette='coolwarm')\n"
     ]
    },
    {
     "name": "stdout",
     "output_type": "stream",
     "text": [
      "Outlier classification: Results...\n",
      "Accuracy: 0.9478079331941545, Precision: 0.1111111111111111, Recall: 0.75, F1-Score: 0.1935483870967742, \n",
      "Num True Negative: 451, Num False Negative: 1, Num True Positive: 3, Num False Positive: 24\n",
      "Outlier threshold:  -0.7078996045517361\n",
      "Average clusterpoint energy:  -16.876832831755483\n",
      "Outlier energy:  [ 5.15768137 -2.84338427  3.17223714  2.39727472]\n"
     ]
    },
    {
     "data": {
      "image/png": "[encoded data removed]",
      "text/plain": [
       "<Figure size 640x480 with 1 Axes>"
      ]
     },
     "metadata": {},
     "output_type": "display_data"
    },
    {
     "data": {
      "image/png": "[encoded data removed]",
      "text/plain": [
       "<Figure size 640x480 with 1 Axes>"
      ]
     },
     "metadata": {},
     "output_type": "display_data"
    }
   ],
   "source": [
    "from qbmqsp.gate_qbm import evaluate_qbm\n",
    "\n",
    "precision,recall,f1,energy_data=evaluate_qbm(qbm,testing_dataset,CLUSTER,quantile=0.95,plot=True)"
   ]
  },
  {
   "cell_type": "markdown",
   "id": "587a6658-33d6-42c2-b559-9173cb4b29a4",
   "metadata": {},
   "source": [
    "### Sources\n"
   ]
  },
  {
   "cell_type": "markdown",
   "id": "b071e10e-58e1-47a9-897f-732d669bf89e",
   "metadata": {},
   "source": [
    "[1] [Amin, M. , Andiyash, E. , Rolfe,J. , Kulchytskyy, B. & Melko, R. (2018). Quantum Boltzmann Machine. Phys. Rev. X,  8.](https://link.aps.org/doi/10.1103/PhysRevX.8.021050)\n",
    "\n",
    "[2] [Stein, J. , Schuman, D. , et al. (2024). Exploring Unsupervised Anomaly Detection with Quantum Boltzmann Machines in Fraud Detection. Proceedings of the 16th International Conference on Agents and Artificial Intelligence, SCITEPRESS](https://dx.doi.org/10.5220/0012326100003636) \n",
    "\n",
    "[3] [Dong, Y. et al., Efficient phase-factor evaluation in quantum signal processing. Physical Review A, 103(4)](https://doi.org/10.1103/PhysRevA.103.042419)\n",
    "\n",
    "**Package for QSP:**  \n",
    "QSPPACK: A toolbox for solving phase factors in Quantum Signal Processing. Available at [https://github.com/qsppack/QSPPACK](https://github.com/qsppack/QSPPACK)"
   ]
  },
  {
   "cell_type": "code",
   "execution_count": null,
   "id": "b13038e7-26d6-4619-9f65-72d04d3ad613",
   "metadata": {},
   "outputs": [],
   "source": []
  }
 ],
 "metadata": {
  "kernelspec": {
   "display_name": "Python 3 (ipykernel)",
   "language": "python",
   "name": "python3"
  },
  "language_info": {
   "codemirror_mode": {
    "name": "ipython",
    "version": 3
   },
   "file_extension": ".py",
   "mimetype": "text/x-python",
   "name": "python",
   "nbconvert_exporter": "python",
   "pygments_lexer": "ipython3",
   "version": "3.11.11"
  }
 },
 "nbformat": 4,
 "nbformat_minor": 5
}
